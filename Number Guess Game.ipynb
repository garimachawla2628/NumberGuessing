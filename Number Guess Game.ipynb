{
 "cells": [
  {
   "cell_type": "markdown",
   "metadata": {},
   "source": [
    "## Number Guessing Game"
   ]
  },
  {
   "cell_type": "code",
   "execution_count": null,
   "metadata": {},
   "outputs": [
    {
     "name": "stdout",
     "output_type": "stream",
     "text": [
      "Enter your name: Garima\n",
      "Hello Garima\n",
      "Would you like to play a game?\n",
      "1)Yes\n",
      "2)No\n"
     ]
    }
   ],
   "source": [
    "import random\n",
    "\n",
    "number= random.randint(1,100)\n",
    "tries=0                                        # user gets 3 chances to guess the number, initialising to 0\n",
    "\n",
    "user_name=input(\"Enter your name: \")\n",
    "\n",
    "print(\"Hello\", user_name)\n",
    "print(\"Would you like to play a game?\")\n",
    "print(\"1)Yes\")\n",
    "print(\"2)No\")\n",
    "\n",
    "option=int(input(\"Select your option 1/2: \"))\n",
    "\n",
    "if(option==1):\n",
    "    print(\"I am thinking of a number between 1 and 100\")\n",
    "    print(\"You get 3 tries to guess the number\")\n",
    "    \n",
    "    guess=int(input(\"What is your first guess?\"))\n",
    "    tries=tries+1\n",
    "    \n",
    "    if(guess>number):\n",
    "        print(\"Incorrect. Hint- Guess a number less than this..\")\n",
    "        \n",
    "    if(guess<number):\n",
    "        print(\"Incorrect. Hint- Guess a number more than this..\")\n",
    "        \n",
    "    while(guess!=number and tries<3):\n",
    "        guess=int(input(\"Try again: \"))\n",
    "        tries=tries+1\n",
    "        \n",
    "        if(guess>number):\n",
    "            print(\"Incorrect. Hint- Guess a number less than this..\")\n",
    "        \n",
    "        if(guess<number):\n",
    "            print(\"Incorrect. Hint- Guess a number more than this..\")\n",
    "        \n",
    "    if(guess==number):\n",
    "        print(\"Congratulations. You won!\")\n",
    "        print(\"Number of tries\", tries)\n",
    "        \n",
    "    else:\n",
    "        print(\"You lost.\")\n",
    "        \n",
    "    \n",
    "elif(option==2):\n",
    "    print(\"No problem. Have a nice day.\")\n",
    "else:\n",
    "    print(\"Invalid option, please try again\")\n",
    "\n",
    "\n"
   ]
  },
  {
   "cell_type": "code",
   "execution_count": null,
   "metadata": {},
   "outputs": [],
   "source": []
  }
 ],
 "metadata": {
  "kernelspec": {
   "display_name": "Python 3",
   "language": "python",
   "name": "python3"
  },
  "language_info": {
   "codemirror_mode": {
    "name": "ipython",
    "version": 3
   },
   "file_extension": ".py",
   "mimetype": "text/x-python",
   "name": "python",
   "nbconvert_exporter": "python",
   "pygments_lexer": "ipython3",
   "version": "3.8.5"
  }
 },
 "nbformat": 4,
 "nbformat_minor": 4
}
